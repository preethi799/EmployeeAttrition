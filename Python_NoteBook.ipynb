{
 "cells": [
  {
   "cell_type": "markdown",
   "id": "10c97772",
   "metadata": {},
   "source": [
    "## Data Pre-Processing:"
   ]
  },
  {
   "cell_type": "markdown",
   "id": "5dfd9489",
   "metadata": {},
   "source": [
    "**Step 1: Import Libraries**"
   ]
  },
  {
   "cell_type": "code",
   "execution_count": 1,
   "id": "db6cabda",
   "metadata": {
    "ExecuteTime": {
     "end_time": "2022-12-16T11:38:26.586780Z",
     "start_time": "2022-12-16T11:38:20.898187Z"
    }
   },
   "outputs": [],
   "source": [
    "import pandas as pd\n",
    "import numpy as np\n",
    "import seaborn as sns\n",
    "import matplotlib.pyplot as plt\n",
    "import warnings\n",
    "warnings.filterwarnings('ignore')\n",
    "from sklearn.model_selection import train_test_split\n",
    "from sklearn.preprocessing import MinMaxScaler\n",
    "from sklearn.metrics import accuracy_score\n",
    "from sklearn.preprocessing import OrdinalEncoder\n",
    "from sklearn.linear_model import LogisticRegression\n",
    "from sklearn import metrics\n",
    "from sklearn.tree import DecisionTreeClassifier\n",
    "from sklearn.tree import export_graphviz\n",
    "import graphviz as gp\n",
    "from sklearn.tree import DecisionTreeRegressor\n",
    "sns.reset_orig()"
   ]
  },
  {
   "cell_type": "markdown",
   "id": "a17ab7fd",
   "metadata": {},
   "source": [
    "**Step 2: Read File**"
   ]
  },
  {
   "cell_type": "code",
   "execution_count": 3,
   "id": "32dc4e37",
   "metadata": {
    "ExecuteTime": {
     "end_time": "2022-12-16T11:49:19.480073Z",
     "start_time": "2022-12-16T11:49:19.270144Z"
    }
   },
   "outputs": [],
   "source": [
    "df_1=pd.read_csv('Previous_Closure_Data.csv')"
   ]
  },
  {
   "cell_type": "markdown",
   "id": "59de9ae2",
   "metadata": {
    "ExecuteTime": {
     "end_time": "2022-12-13T17:02:24.252821Z",
     "start_time": "2022-12-13T17:02:24.190931Z"
    }
   },
   "source": [
    "**Step 3: Drop Unnecessary Columns**\n",
    "\n",
    "* EmployeeNumber, EmployeeCount, Over18 and StandardHours do not give us any valuable information"
   ]
  },
  {
   "cell_type": "code",
   "execution_count": 82,
   "id": "b590138f",
   "metadata": {
    "ExecuteTime": {
     "end_time": "2022-12-16T11:30:11.003414Z",
     "start_time": "2022-12-16T11:30:10.996505Z"
    }
   },
   "outputs": [],
   "source": [
    "df_1.drop(['EmployeeNumber','EmployeeCount','Over18','StandardHours'],axis=1,inplace=True)"
   ]
  },
  {
   "cell_type": "markdown",
   "id": "4873d46e",
   "metadata": {
    "ExecuteTime": {
     "end_time": "2022-12-13T17:11:39.269160Z",
     "start_time": "2022-12-13T17:11:39.260681Z"
    }
   },
   "source": [
    "**Step 4: Checking for Null Values and Imputing**\n",
    "\n",
    "* Dropping null values in df_1 implies dropping null values in df_2 which leads to significant loss of employee data\n",
    "* Removing column Age (having maximum null values) affected the accuracy score, hence age is an important variable\n",
    "* As a result, decided to go for imputation\n",
    "* Imputed numerical categories with mean and categorical categories with mode"
   ]
  },
  {
   "cell_type": "code",
   "execution_count": 83,
   "id": "cf8dcf3c",
   "metadata": {
    "ExecuteTime": {
     "end_time": "2022-12-16T11:30:11.026131Z",
     "start_time": "2022-12-16T11:30:11.008941Z"
    }
   },
   "outputs": [],
   "source": [
    "df_1.isna().sum()\n",
    "df_1['Age'] = df_1['Age'].fillna(df_1['Age'].mean())\n",
    "df_1['DailyRate'] = df_1['DailyRate'].fillna(df_1['DailyRate'].mean())\n",
    "df_1['DistanceFromHome'] = df_1['DistanceFromHome'].fillna(df_1['DistanceFromHome'].mean())\n",
    "df_1['BusinessTravel'] = df_1['BusinessTravel'].fillna(df_1['BusinessTravel'].mode()[0])\n",
    "df_1['MaritalStatus'] = df_1['MaritalStatus'].fillna(df_1['MaritalStatus'].mode()[0])"
   ]
  },
  {
   "cell_type": "markdown",
   "id": "19036a63",
   "metadata": {},
   "source": [
    "**Step 5: Check Duplicates:**"
   ]
  },
  {
   "cell_type": "code",
   "execution_count": 84,
   "id": "2f640a77",
   "metadata": {
    "ExecuteTime": {
     "end_time": "2022-12-16T11:30:11.048875Z",
     "start_time": "2022-12-16T11:30:11.030561Z"
    }
   },
   "outputs": [
    {
     "data": {
      "text/plain": [
       "False"
      ]
     },
     "execution_count": 84,
     "metadata": {},
     "output_type": "execute_result"
    }
   ],
   "source": [
    "df_1.duplicated().any()"
   ]
  },
  {
   "cell_type": "markdown",
   "id": "9832d211",
   "metadata": {},
   "source": [
    "**Step 6: Check for Outliers:**\n",
    "\n",
    "* While the boxplots show clear presence of outliers, on further analysing the data it came to by notice that they might not be actual outliers. One example is given below. Stock Option Level is measured on a scale of one to three and the box plot identifies three as a outlier, while it is not, logically. The same process was repeated for all variables. Overall, no *outliers* were identified/removed."
   ]
  },
  {
   "cell_type": "code",
   "execution_count": 85,
   "id": "7c7977d4",
   "metadata": {
    "ExecuteTime": {
     "end_time": "2022-12-16T11:30:11.221621Z",
     "start_time": "2022-12-16T11:30:11.052687Z"
    }
   },
   "outputs": [
    {
     "data": {
      "text/plain": [
       "<AxesSubplot:xlabel='StockOptionLevel'>"
      ]
     },
     "execution_count": 85,
     "metadata": {},
     "output_type": "execute_result"
    },
    {
     "data": {
      "image/png": "[encoded data removed]",
      "text/plain": [
       "<Figure size 432x288 with 1 Axes>"
      ]
     },
     "metadata": {
      "needs_background": "light"
     },
     "output_type": "display_data"
    }
   ],
   "source": [
    "sns.boxplot(df_1['StockOptionLevel'],color='orange')"
   ]
  },
  {
   "cell_type": "markdown",
   "id": "424c9427",
   "metadata": {},
   "source": [
    "**Step 7: Feature Engineering Variables**"
   ]
  },
  {
   "cell_type": "code",
   "execution_count": 86,
   "id": "a6ae55b9",
   "metadata": {
    "ExecuteTime": {
     "end_time": "2022-12-16T11:30:11.249614Z",
     "start_time": "2022-12-16T11:30:11.229368Z"
    },
    "code_folding": [
     0
    ]
   },
   "outputs": [],
   "source": [
    "#Gender:\n",
    "\n",
    "df_1 = pd.get_dummies(df_1, columns = ['Gender'])\n",
    "\n",
    "#Dropping Gender_Female as 0 for Gender_Male means the person is a female\n",
    "df_1=df_1.drop([\"Gender_Female\"], axis = 1)"
   ]
  },
  {
   "cell_type": "code",
   "execution_count": 87,
   "id": "2805e03c",
   "metadata": {
    "ExecuteTime": {
     "end_time": "2022-12-16T11:30:11.278889Z",
     "start_time": "2022-12-16T11:30:11.256195Z"
    },
    "code_folding": [
     0
    ]
   },
   "outputs": [],
   "source": [
    "#OverTime:\n",
    "\n",
    "df_1 = pd.get_dummies(df_1, columns = ['OverTime'])\n",
    "\n",
    "#Dropping Overtime_No as 0 for Overtime_Yes means the person has not done overtime:\n",
    "df_1=df_1.drop([\"OverTime_No\"], axis = 1)"
   ]
  },
  {
   "cell_type": "code",
   "execution_count": 88,
   "id": "b8e74938",
   "metadata": {
    "ExecuteTime": {
     "end_time": "2022-12-16T11:30:11.308093Z",
     "start_time": "2022-12-16T11:30:11.286631Z"
    },
    "code_folding": [
     0
    ]
   },
   "outputs": [],
   "source": [
    "#Attrition:\n",
    "\n",
    "df_1 = pd.get_dummies(df_1, columns = ['Attrition'])\n",
    "\n",
    "#Dropping Attrition_No as 0 for Attrition_Yes means the person had not left the company:\n",
    "df_1=df_1.drop([\"Attrition_No\"], axis = 1)\n",
    "df_1.rename(columns={'Attrition_Yes':'Attrition'},inplace=True)"
   ]
  },
  {
   "cell_type": "code",
   "execution_count": 89,
   "id": "0843886d",
   "metadata": {
    "ExecuteTime": {
     "end_time": "2022-12-16T11:30:11.365483Z",
     "start_time": "2022-12-16T11:30:11.344864Z"
    },
    "code_folding": [
     0
    ]
   },
   "outputs": [],
   "source": [
    "#Business_Travel:\n",
    "\n",
    "#Combining categories:\n",
    "df_1['BusinessTravel'] = np.where(df_1['BusinessTravel']!=('Non-Travel'), 'Yes', 'No')\n",
    "\n",
    "df_1 = pd.get_dummies(df_1, columns = ['BusinessTravel'])\n",
    "\n",
    "#Dropping BusinessTravel_No as 0 in BusinessTravel_Yes means the person did not travel\n",
    "df_1=df_1.drop([\"BusinessTravel_No\"], axis = 1)"
   ]
  },
  {
   "cell_type": "code",
   "execution_count": 90,
   "id": "cd26d34b",
   "metadata": {
    "ExecuteTime": {
     "end_time": "2022-12-16T11:30:11.389220Z",
     "start_time": "2022-12-16T11:30:11.372495Z"
    },
    "code_folding": [
     0
    ]
   },
   "outputs": [],
   "source": [
    "#Education_Field:\n",
    "\n",
    "#Combining rare category (Human Resources):\n",
    "df_1['EducationField']=df_1.EducationField.replace({'Human Resources':'Other'})\n",
    "\n",
    "df_1 = pd.get_dummies(df_1, columns = ['EducationField'])"
   ]
  },
  {
   "cell_type": "code",
   "execution_count": 91,
   "id": "b7a9b3d2",
   "metadata": {
    "ExecuteTime": {
     "end_time": "2022-12-16T11:30:11.415636Z",
     "start_time": "2022-12-16T11:30:11.396147Z"
    },
    "code_folding": [
     0
    ]
   },
   "outputs": [],
   "source": [
    "#Marital_Status, Department, Jobrole:\n",
    "\n",
    "df_1 = pd.get_dummies(df_1, columns = ['MaritalStatus','Department','JobRole'])"
   ]
  },
  {
   "cell_type": "code",
   "execution_count": 92,
   "id": "79fe5df7",
   "metadata": {
    "ExecuteTime": {
     "end_time": "2022-12-16T11:30:11.438200Z",
     "start_time": "2022-12-16T11:30:11.422437Z"
    },
    "code_folding": [
     0
    ]
   },
   "outputs": [],
   "source": [
    "#Combining Multiple Features:\n",
    "df_1['Average_Satisfaction']=(df_1['RelationshipSatisfaction']+df_1['JobInvolvement']+df_1['JobSatisfaction']+df_1['EnvironmentSatisfaction']+df_1['WorkLifeBalance'])/5\n",
    "df_1.drop(['RelationshipSatisfaction','JobInvolvement','JobSatisfaction','EnvironmentSatisfaction','WorkLifeBalance'],axis=1,inplace=True)"
   ]
  },
  {
   "cell_type": "code",
   "execution_count": 93,
   "id": "fd7fc3b4",
   "metadata": {
    "ExecuteTime": {
     "end_time": "2022-12-16T11:30:11.693323Z",
     "start_time": "2022-12-16T11:30:11.447142Z"
    },
    "code_folding": [
     0
    ]
   },
   "outputs": [
    {
     "data": {
      "image/png": "[encoded data removed]",
      "text/plain": [
       "<Figure size 432x288 with 1 Axes>"
      ]
     },
     "metadata": {
      "needs_background": "light"
     },
     "output_type": "display_data"
    }
   ],
   "source": [
    "#Feature Tranforming MonthlyIncome:\n",
    "sns.histplot(df_1['MonthlyIncome'],kde=False,bins=15,color='plum') #Not normally distributed--skewed\n",
    "df_1['MonthlyIncome']=np.log(df_1['MonthlyIncome'])"
   ]
  },
  {
   "cell_type": "markdown",
   "id": "21a74086",
   "metadata": {
    "ExecuteTime": {
     "end_time": "2022-12-13T22:24:06.627020Z",
     "start_time": "2022-12-13T22:24:06.578109Z"
    }
   },
   "source": [
    "## Logistic Regression:"
   ]
  },
  {
   "cell_type": "markdown",
   "id": "99537cdf",
   "metadata": {},
   "source": [
    "**Step 1: Split the Dataset**"
   ]
  },
  {
   "cell_type": "code",
   "execution_count": 94,
   "id": "8b6b94c8",
   "metadata": {
    "ExecuteTime": {
     "end_time": "2022-12-16T11:30:11.757164Z",
     "start_time": "2022-12-16T11:30:11.698823Z"
    },
    "code_folding": [
     0
    ]
   },
   "outputs": [],
   "source": [
    "#Splitting and Scaling the Data: \n",
    "\n",
    "#Splitting the DataFrame\n",
    "X= df_1.drop('Attrition', axis = 1)\n",
    "Y = df_1.Attrition\n",
    "\n",
    "#Create Training Data:\n",
    "trainX, otherX, trainY, otherY = train_test_split(X, Y, test_size=0.4,random_state=100)\n",
    "\n",
    "#Scaling Data:\n",
    "Scaler = MinMaxScaler()\n",
    "Scaling_Cols = ['TrainingTimesLastYear','YearsAtCompany','TotalWorkingYears','YearsInCurrentRole','YearsSinceLastPromotion','YearsWithCurrManager','PercentSalaryHike','Age','DailyRate','DistanceFromHome','HourlyRate','MonthlyIncome','MonthlyRate','NumCompaniesWorked','Average_Satisfaction']\n",
    "trainX[Scaling_Cols] = Scaler.fit_transform(trainX[Scaling_Cols])\n",
    "otherX[Scaling_Cols] = Scaler.transform(otherX[Scaling_Cols])\n",
    "\n",
    "#Creating Test and Validation Data:\n",
    "testX, validationX, testY, validationY = train_test_split(otherX, otherY, test_size=0.5,random_state=100)"
   ]
  },
  {
   "cell_type": "markdown",
   "id": "b1a5b193",
   "metadata": {},
   "source": [
    "**Step 2: Training the Model with Train Data, then Validating with Validation Data**"
   ]
  },
  {
   "cell_type": "code",
   "execution_count": 95,
   "id": "fbff4d41",
   "metadata": {
    "ExecuteTime": {
     "end_time": "2022-12-16T11:30:11.812161Z",
     "start_time": "2022-12-16T11:30:11.760453Z"
    },
    "code_folding": [
     0
    ]
   },
   "outputs": [],
   "source": [
    "#Model Fitting and Making Predictions:\n",
    "\n",
    "#Fitting Model:\n",
    "classifier = LogisticRegression(max_iter=1000)\n",
    "classifier.fit(trainX, trainY.values.ravel())\n",
    "\n",
    "#Making Predictions with Validation Data:\n",
    "y_pred = classifier.predict_proba(validationX)[:,1]"
   ]
  },
  {
   "cell_type": "code",
   "execution_count": 96,
   "id": "f1b7dd65",
   "metadata": {
    "ExecuteTime": {
     "end_time": "2022-12-16T11:30:11.991427Z",
     "start_time": "2022-12-16T11:30:11.815192Z"
    },
    "code_folding": [
     0
    ],
    "scrolled": true
   },
   "outputs": [
    {
     "data": {
      "image/png": "[encoded data removed]",
      "text/plain": [
       "<Figure size 432x288 with 1 Axes>"
      ]
     },
     "metadata": {
      "needs_background": "light"
     },
     "output_type": "display_data"
    }
   ],
   "source": [
    "#ROC_Curve: \n",
    "\n",
    "fpr, tpr, thresholds = metrics.roc_curve(validationY,y_pred)\n",
    "plt.plot(fpr, tpr, linewidth=2.3,color='green')\n",
    "plt.title('ROC Curve\\n')\n",
    "plt.show()\n"
   ]
  },
  {
   "cell_type": "code",
   "execution_count": 97,
   "id": "a913334e",
   "metadata": {
    "ExecuteTime": {
     "end_time": "2022-12-16T11:30:12.007821Z",
     "start_time": "2022-12-16T11:30:11.995422Z"
    },
    "code_folding": [
     0
    ]
   },
   "outputs": [
    {
     "name": "stdout",
     "output_type": "stream",
     "text": [
      "AUC: 0.802\n"
     ]
    }
   ],
   "source": [
    "#AUC_Score:\n",
    "print('AUC: %.3f' % metrics.roc_auc_score(validationY,y_pred))"
   ]
  },
  {
   "cell_type": "markdown",
   "id": "1c63e306",
   "metadata": {},
   "source": [
    "**Step 3: Retraining the model with Training+Validation, then Testing it**"
   ]
  },
  {
   "cell_type": "code",
   "execution_count": 98,
   "id": "2bb13f01",
   "metadata": {
    "ExecuteTime": {
     "end_time": "2022-12-16T11:30:12.031638Z",
     "start_time": "2022-12-16T11:30:12.012041Z"
    },
    "code_folding": [
     0
    ]
   },
   "outputs": [],
   "source": [
    "#Combining Train and Validation:\n",
    "trainX_final=pd.concat([trainX, validationX])\n",
    "trainY_final=pd.concat([trainY, validationY])"
   ]
  },
  {
   "cell_type": "code",
   "execution_count": 99,
   "id": "fb877cc5",
   "metadata": {
    "ExecuteTime": {
     "end_time": "2022-12-16T11:30:12.121482Z",
     "start_time": "2022-12-16T11:30:12.049071Z"
    },
    "code_folding": [
     0
    ]
   },
   "outputs": [],
   "source": [
    "#Model Fitting and Making Predictions:\n",
    "classifier1 = LogisticRegression().fit(trainX_final, trainY_final.values.ravel())\n",
    "y_pred1 = classifier1.predict_proba(testX)[:,1]"
   ]
  },
  {
   "cell_type": "code",
   "execution_count": 100,
   "id": "ad283a45",
   "metadata": {
    "ExecuteTime": {
     "end_time": "2022-12-16T11:30:12.135216Z",
     "start_time": "2022-12-16T11:30:12.124331Z"
    },
    "code_folding": [
     0
    ],
    "scrolled": true
   },
   "outputs": [
    {
     "name": "stdout",
     "output_type": "stream",
     "text": [
      "Final AUC: 0.910\n"
     ]
    }
   ],
   "source": [
    "#AUC Score:\n",
    "print('Final AUC: %.3f' % metrics.roc_auc_score(testY,y_pred1))"
   ]
  },
  {
   "cell_type": "markdown",
   "id": "3c5b58fd",
   "metadata": {
    "ExecuteTime": {
     "end_time": "2022-12-14T20:14:39.744538Z",
     "start_time": "2022-12-14T20:14:39.739684Z"
    }
   },
   "source": [
    "## Decision Tree Classifier:"
   ]
  },
  {
   "cell_type": "markdown",
   "id": "27acce61",
   "metadata": {
    "ExecuteTime": {
     "end_time": "2022-12-15T00:42:24.785132Z",
     "start_time": "2022-12-15T00:42:24.766468Z"
    }
   },
   "source": [
    "**Step 1: Using Validation Dataset to choose max_leaf_nodes**"
   ]
  },
  {
   "cell_type": "code",
   "execution_count": 101,
   "id": "910cb92c",
   "metadata": {
    "ExecuteTime": {
     "end_time": "2022-12-16T11:30:12.931550Z",
     "start_time": "2022-12-16T11:30:12.140454Z"
    },
    "code_folding": [
     0
    ]
   },
   "outputs": [
    {
     "data": {
      "image/png": "[encoded data removed]",
      "text/plain": [
       "<Figure size 432x288 with 1 Axes>"
      ]
     },
     "metadata": {
      "needs_background": "light"
     },
     "output_type": "display_data"
    },
    {
     "name": "stdout",
     "output_type": "stream",
     "text": [
      "The graph suggests the number of leaf nodes to be around 9\n",
      "\n"
     ]
    }
   ],
   "source": [
    "# Train the model with multiple leafs:\n",
    "n_max_leaf_nodes = range(2,60)\n",
    "train_array = []\n",
    "validation_array = []\n",
    "\n",
    "for n in n_max_leaf_nodes:\n",
    "    \n",
    "    classifier_DT = DecisionTreeClassifier(max_leaf_nodes = n)\n",
    "    classifier_DT = classifier_DT.fit(trainX, trainY)\n",
    "    \n",
    "    y_train_pred = classifier_DT.predict(trainX)\n",
    "    y_validation_pred = classifier_DT.predict(validationX)\n",
    "    \n",
    "    train_score = accuracy_score(trainY,y_train_pred)\n",
    "    validation_score = accuracy_score(validationY,y_validation_pred)\n",
    "\n",
    "    train_array.append([n,train_score])\n",
    "    validation_array.append([n,validation_score])\n",
    "\n",
    "#Plotting:\n",
    "array = pd.DataFrame(validation_array)\n",
    "plt.scatter(array[0],array[1],color='Maroon',alpha=0.8)\n",
    "array_train = pd.DataFrame(train_array)\n",
    "plt.scatter(array_train[0],array_train[1],color='indianred',alpha=0.8)\n",
    "plt.legend(['Validation set','Training set'])\n",
    "plt.xlabel(\"Number of leaves\",fontsize=10)\n",
    "plt.ylabel(\"Accuracy\",fontsize=10)\n",
    "plt.show()   \n",
    "\n",
    "print('The graph suggests the number of leaf nodes to be around 9\\n')"
   ]
  },
  {
   "cell_type": "markdown",
   "id": "f6a7cc7a",
   "metadata": {},
   "source": [
    " **Step 2: Combining Train and Validation and Fitting the Model**"
   ]
  },
  {
   "cell_type": "code",
   "execution_count": 102,
   "id": "9dee386a",
   "metadata": {
    "ExecuteTime": {
     "end_time": "2022-12-16T11:30:12.979605Z",
     "start_time": "2022-12-16T11:30:12.937070Z"
    },
    "code_folding": [
     0
    ]
   },
   "outputs": [
    {
     "data": {
      "text/html": [
       "<style>#sk-container-id-3 {color: black;background-color: white;}#sk-container-id-3 pre{padding: 0;}#sk-container-id-3 div.sk-toggleable {background-color: white;}#sk-container-id-3 label.sk-toggleable__label {cursor: pointer;display: block;width: 100%;margin-bottom: 0;padding: 0.3em;box-sizing: border-box;text-align: center;}#sk-container-id-3 label.sk-toggleable__label-arrow:before {content: \"▸\";float: left;margin-right: 0.25em;color: #696969;}#sk-container-id-3 label.sk-toggleable__label-arrow:hover:before {color: black;}#sk-container-id-3 div.sk-estimator:hover label.sk-toggleable__label-arrow:before {color: black;}#sk-container-id-3 div.sk-toggleable__content {max-height: 0;max-width: 0;overflow: hidden;text-align: left;background-color: #f0f8ff;}#sk-container-id-3 div.sk-toggleable__content pre {margin: 0.2em;color: black;border-radius: 0.25em;background-color: #f0f8ff;}#sk-container-id-3 input.sk-toggleable__control:checked~div.sk-toggleable__content {max-height: 200px;max-width: 100%;overflow: auto;}#sk-container-id-3 input.sk-toggleable__control:checked~label.sk-toggleable__label-arrow:before {content: \"▾\";}#sk-container-id-3 div.sk-estimator input.sk-toggleable__control:checked~label.sk-toggleable__label {background-color: #d4ebff;}#sk-container-id-3 div.sk-label input.sk-toggleable__control:checked~label.sk-toggleable__label {background-color: #d4ebff;}#sk-container-id-3 input.sk-hidden--visually {border: 0;clip: rect(1px 1px 1px 1px);clip: rect(1px, 1px, 1px, 1px);height: 1px;margin: -1px;overflow: hidden;padding: 0;position: absolute;width: 1px;}#sk-container-id-3 div.sk-estimator {font-family: monospace;background-color: #f0f8ff;border: 1px dotted black;border-radius: 0.25em;box-sizing: border-box;margin-bottom: 0.5em;}#sk-container-id-3 div.sk-estimator:hover {background-color: #d4ebff;}#sk-container-id-3 div.sk-parallel-item::after {content: \"\";width: 100%;border-bottom: 1px solid gray;flex-grow: 1;}#sk-container-id-3 div.sk-label:hover label.sk-toggleable__label {background-color: #d4ebff;}#sk-container-id-3 div.sk-serial::before {content: \"\";position: absolute;border-left: 1px solid gray;box-sizing: border-box;top: 0;bottom: 0;left: 50%;z-index: 0;}#sk-container-id-3 div.sk-serial {display: flex;flex-direction: column;align-items: center;background-color: white;padding-right: 0.2em;padding-left: 0.2em;position: relative;}#sk-container-id-3 div.sk-item {position: relative;z-index: 1;}#sk-container-id-3 div.sk-parallel {display: flex;align-items: stretch;justify-content: center;background-color: white;position: relative;}#sk-container-id-3 div.sk-item::before, #sk-container-id-3 div.sk-parallel-item::before {content: \"\";position: absolute;border-left: 1px solid gray;box-sizing: border-box;top: 0;bottom: 0;left: 50%;z-index: -1;}#sk-container-id-3 div.sk-parallel-item {display: flex;flex-direction: column;z-index: 1;position: relative;background-color: white;}#sk-container-id-3 div.sk-parallel-item:first-child::after {align-self: flex-end;width: 50%;}#sk-container-id-3 div.sk-parallel-item:last-child::after {align-self: flex-start;width: 50%;}#sk-container-id-3 div.sk-parallel-item:only-child::after {width: 0;}#sk-container-id-3 div.sk-dashed-wrapped {border: 1px dashed gray;margin: 0 0.4em 0.5em 0.4em;box-sizing: border-box;padding-bottom: 0.4em;background-color: white;}#sk-container-id-3 div.sk-label label {font-family: monospace;font-weight: bold;display: inline-block;line-height: 1.2em;}#sk-container-id-3 div.sk-label-container {text-align: center;}#sk-container-id-3 div.sk-container {/* jupyter's `normalize.less` sets `[hidden] { display: none; }` but bootstrap.min.css set `[hidden] { display: none !important; }` so we also need the `!important` here to be able to override the default hidden behavior on the sphinx rendered scikit-learn.org. See: https://github.com/scikit-learn/scikit-learn/issues/21755 */display: inline-block !important;position: relative;}#sk-container-id-3 div.sk-text-repr-fallback {display: none;}</style><div id=\"sk-container-id-3\" class=\"sk-top-container\"><div class=\"sk-text-repr-fallback\"><pre>DecisionTreeRegressor(max_leaf_nodes=9)</pre><b>In a Jupyter environment, please rerun this cell to show the HTML representation or trust the notebook. <br />On GitHub, the HTML representation is unable to render, please try loading this page with nbviewer.org.</b></div><div class=\"sk-container\" hidden><div class=\"sk-item\"><div class=\"sk-estimator sk-toggleable\"><input class=\"sk-toggleable__control sk-hidden--visually\" id=\"sk-estimator-id-3\" type=\"checkbox\" checked><label for=\"sk-estimator-id-3\" class=\"sk-toggleable__label sk-toggleable__label-arrow\">DecisionTreeRegressor</label><div class=\"sk-toggleable__content\"><pre>DecisionTreeRegressor(max_leaf_nodes=9)</pre></div></div></div></div></div>"
      ],
      "text/plain": [
       "DecisionTreeRegressor(max_leaf_nodes=9)"
      ]
     },
     "execution_count": 102,
     "metadata": {},
     "output_type": "execute_result"
    }
   ],
   "source": [
    "#Combing Train and Validation:\n",
    "Xtrainval=trainX.append(validationX)\n",
    "ytrainval=trainY.append(validationY)\n",
    "\n",
    "#Model Fitting with chosen max_leaf_nodes:\n",
    "regressor_DT = DecisionTreeRegressor(max_leaf_nodes=9)\n",
    "regressor_DT.fit(Xtrainval, ytrainval) "
   ]
  },
  {
   "cell_type": "markdown",
   "id": "83a0aa35",
   "metadata": {
    "ExecuteTime": {
     "end_time": "2022-12-15T00:50:34.557020Z",
     "start_time": "2022-12-15T00:50:34.548758Z"
    }
   },
   "source": [
    "**Step 3: Prediction and Accuracy**"
   ]
  },
  {
   "cell_type": "code",
   "execution_count": 103,
   "id": "6c997ae4",
   "metadata": {
    "ExecuteTime": {
     "end_time": "2022-12-16T11:30:13.003713Z",
     "start_time": "2022-12-16T11:30:12.983786Z"
    },
    "code_folding": [
     0
    ]
   },
   "outputs": [
    {
     "name": "stdout",
     "output_type": "stream",
     "text": [
      "Final Accuracy Score: 0.816\n"
     ]
    }
   ],
   "source": [
    "#Prediction:\n",
    "y_test_pred = classifier_DT.predict(testX)\n",
    "\n",
    "#Accuracy:    \n",
    "print('Final Accuracy Score: %.3f'% accuracy_score(testY,y_test_pred))"
   ]
  },
  {
   "cell_type": "markdown",
   "id": "5a0aba4e",
   "metadata": {},
   "source": [
    "## Make Predictions:\n",
    "\n",
    "\n",
    "* *Note*: Logistic Regression has given a better score (0.91) than Decision Tree Classfier. Hence, calculated predicted probabilites using Logistic Regression Model"
   ]
  },
  {
   "cell_type": "markdown",
   "id": "3298ac1b",
   "metadata": {
    "ExecuteTime": {
     "end_time": "2022-12-14T09:14:52.393050Z",
     "start_time": "2022-12-14T09:14:52.378806Z"
    }
   },
   "source": [
    "**Step1: Read File**"
   ]
  },
  {
   "cell_type": "code",
   "execution_count": 104,
   "id": "b7cbaabd",
   "metadata": {
    "ExecuteTime": {
     "end_time": "2022-12-16T11:30:13.029828Z",
     "start_time": "2022-12-16T11:30:13.009446Z"
    }
   },
   "outputs": [],
   "source": [
    "df_2=pd.read_csv('Lyon_DataFrame.csv')"
   ]
  },
  {
   "cell_type": "markdown",
   "id": "bba35fd8",
   "metadata": {},
   "source": [
    "**Step 2: Drop Unnecessary Columns**"
   ]
  },
  {
   "cell_type": "code",
   "execution_count": 105,
   "id": "5793df89",
   "metadata": {
    "ExecuteTime": {
     "end_time": "2022-12-16T11:30:13.046027Z",
     "start_time": "2022-12-16T11:30:13.033785Z"
    }
   },
   "outputs": [],
   "source": [
    "df_2.drop(['EmployeeNumber','EmployeeCount','Over18','StandardHours'],axis=1,inplace=True)"
   ]
  },
  {
   "cell_type": "markdown",
   "id": "0ec70749",
   "metadata": {},
   "source": [
    "**Step 3: Imputation of Null Values**"
   ]
  },
  {
   "cell_type": "code",
   "execution_count": 106,
   "id": "57256634",
   "metadata": {
    "ExecuteTime": {
     "end_time": "2022-12-16T11:30:13.071097Z",
     "start_time": "2022-12-16T11:30:13.050650Z"
    }
   },
   "outputs": [],
   "source": [
    "df_2['Age'] = df_2['Age'].fillna(df_2['Age'].mean())\n",
    "df_2['DailyRate'] = df_2['DailyRate'].fillna(df_2['DailyRate'].mean())\n",
    "df_2['DistanceFromHome'] = df_2['DistanceFromHome'].fillna(df_2['DistanceFromHome'].mean())\n",
    "df_2['BusinessTravel'] = df_2['BusinessTravel'].fillna(df_2['BusinessTravel'].mode()[0])\n",
    "df_2['MaritalStatus'] = df_2['MaritalStatus'].fillna(df_2['MaritalStatus'].mode()[0])"
   ]
  },
  {
   "cell_type": "markdown",
   "id": "a46e4919",
   "metadata": {},
   "source": [
    "**Step 4: Check Duplicates**"
   ]
  },
  {
   "cell_type": "code",
   "execution_count": 107,
   "id": "9bfdbe93",
   "metadata": {
    "ExecuteTime": {
     "end_time": "2022-12-16T11:30:13.121558Z",
     "start_time": "2022-12-16T11:30:13.093895Z"
    }
   },
   "outputs": [
    {
     "data": {
      "text/plain": [
       "False"
      ]
     },
     "execution_count": 107,
     "metadata": {},
     "output_type": "execute_result"
    }
   ],
   "source": [
    "df_2.duplicated().any()"
   ]
  },
  {
   "cell_type": "markdown",
   "id": "dcf07b6d",
   "metadata": {},
   "source": [
    "**Step 5: Feature Engineering Variables**"
   ]
  },
  {
   "cell_type": "code",
   "execution_count": 108,
   "id": "8f254baf",
   "metadata": {
    "ExecuteTime": {
     "end_time": "2022-12-16T11:30:13.147034Z",
     "start_time": "2022-12-16T11:30:13.129499Z"
    },
    "code_folding": [
     0
    ]
   },
   "outputs": [],
   "source": [
    "#Gender:\n",
    "\n",
    "df_2 = pd.get_dummies(df_2, columns = ['Gender'])\n",
    "\n",
    "#Dropping Gender_Female as 0 for Gender_Male means the person is a female\n",
    "df_2=df_2.drop([\"Gender_Female\"], axis = 1)"
   ]
  },
  {
   "cell_type": "code",
   "execution_count": 109,
   "id": "7d2cff4c",
   "metadata": {
    "ExecuteTime": {
     "end_time": "2022-12-16T11:30:13.170830Z",
     "start_time": "2022-12-16T11:30:13.155438Z"
    },
    "code_folding": [
     0
    ]
   },
   "outputs": [],
   "source": [
    "#OverTime:\n",
    "\n",
    "df_2 = pd.get_dummies(df_2, columns = ['OverTime'])\n",
    "\n",
    "#Dropping Overtime_No as 0 for Overtime_Yes means the person has not done overtime:\n",
    "df_2=df_2.drop([\"OverTime_No\"], axis = 1)"
   ]
  },
  {
   "cell_type": "code",
   "execution_count": 110,
   "id": "53830372",
   "metadata": {
    "ExecuteTime": {
     "end_time": "2022-12-16T11:30:13.203586Z",
     "start_time": "2022-12-16T11:30:13.177781Z"
    },
    "code_folding": [
     0
    ]
   },
   "outputs": [],
   "source": [
    "#Business_Travel:\n",
    "\n",
    "#Combining categories:\n",
    "df_2['BusinessTravel'] = np.where(df_2['BusinessTravel']!=('Non-Travel'), 'Yes', 'No')\n",
    "\n",
    "df_2 = pd.get_dummies(df_2, columns = ['BusinessTravel'])\n",
    "\n",
    "#Dropping BusinessTravel_No as 0 in BusinessTravel_Yes means the person did not travel\n",
    "df_2=df_2.drop([\"BusinessTravel_No\"], axis = 1)"
   ]
  },
  {
   "cell_type": "code",
   "execution_count": 111,
   "id": "409c397a",
   "metadata": {
    "ExecuteTime": {
     "end_time": "2022-12-16T11:30:13.228005Z",
     "start_time": "2022-12-16T11:30:13.208087Z"
    },
    "code_folding": [
     0
    ]
   },
   "outputs": [],
   "source": [
    "#Education_Field:\n",
    "\n",
    "#Combing rare category (Human Resources):\n",
    "df_2['EducationField']=df_2.EducationField.replace({'Human Resources':'Other'})\n",
    "\n",
    "df_2 = pd.get_dummies(df_2, columns = ['EducationField'])"
   ]
  },
  {
   "cell_type": "code",
   "execution_count": 112,
   "id": "fe45c910",
   "metadata": {
    "ExecuteTime": {
     "end_time": "2022-12-16T11:30:13.254522Z",
     "start_time": "2022-12-16T11:30:13.231282Z"
    },
    "code_folding": [
     0
    ]
   },
   "outputs": [],
   "source": [
    "#Marital_Status, Department, Jobrole:\n",
    "\n",
    "df_2 = pd.get_dummies(df_2, columns = ['MaritalStatus','Department','JobRole'])"
   ]
  },
  {
   "cell_type": "code",
   "execution_count": 113,
   "id": "34c7d822",
   "metadata": {
    "ExecuteTime": {
     "end_time": "2022-12-16T11:30:13.278830Z",
     "start_time": "2022-12-16T11:30:13.262100Z"
    },
    "code_folding": [
     0
    ]
   },
   "outputs": [],
   "source": [
    "#Combining Multiple Features:\n",
    "df_2['Average_Satisfaction']=(df_2['RelationshipSatisfaction']+df_2['JobInvolvement']+df_2['JobSatisfaction']+df_2['EnvironmentSatisfaction']+df_2['WorkLifeBalance'])/5\n",
    "df_2.drop(['RelationshipSatisfaction','JobInvolvement','JobSatisfaction','EnvironmentSatisfaction','WorkLifeBalance'],axis=1,inplace=True)"
   ]
  },
  {
   "cell_type": "code",
   "execution_count": 114,
   "id": "5b2e4925",
   "metadata": {
    "ExecuteTime": {
     "end_time": "2022-12-16T11:30:13.572212Z",
     "start_time": "2022-12-16T11:30:13.284046Z"
    },
    "code_folding": [
     0
    ]
   },
   "outputs": [
    {
     "data": {
      "image/png": "[encoded data removed]",
      "text/plain": [
       "<Figure size 432x288 with 1 Axes>"
      ]
     },
     "metadata": {
      "needs_background": "light"
     },
     "output_type": "display_data"
    }
   ],
   "source": [
    "#Feature Tranforming MonthlyIncome:\n",
    "\n",
    "sns.histplot(df_2['MonthlyIncome'],kde=False,bins=15,color='cornflowerblue') \n",
    "df_2['MonthlyIncome']=np.log(df_2['MonthlyIncome'])"
   ]
  },
  {
   "cell_type": "code",
   "execution_count": 115,
   "id": "d4489550",
   "metadata": {
    "ExecuteTime": {
     "end_time": "2022-12-16T11:30:13.595207Z",
     "start_time": "2022-12-16T11:30:13.576276Z"
    },
    "code_folding": [
     0
    ]
   },
   "outputs": [],
   "source": [
    "#Scaling:\n",
    "df_2[Scaling_Cols] = Scaler.fit_transform(df_2[Scaling_Cols])"
   ]
  },
  {
   "cell_type": "markdown",
   "id": "66c013a3",
   "metadata": {},
   "source": [
    "**Step 6: Predicting Probabilities**"
   ]
  },
  {
   "cell_type": "code",
   "execution_count": 116,
   "id": "bb538f79",
   "metadata": {
    "ExecuteTime": {
     "end_time": "2022-12-16T11:30:13.647958Z",
     "start_time": "2022-12-16T11:30:13.606413Z"
    }
   },
   "outputs": [
    {
     "data": {
      "text/plain": [
       "[0.07657588433262374,\n",
       " 0.013136963554685719,\n",
       " 0.4192280755768744,\n",
       " 0.023974493152066113,\n",
       " 0.1372282704249304,\n",
       " 0.3371598529163519,\n",
       " 0.30847951873473517,\n",
       " 0.12048167838742649,\n",
       " 0.05385577864564535,\n",
       " 0.05909602872119067,\n",
       " 0.5113779411119977,\n",
       " 0.08284687032914385,\n",
       " 0.1241798348066339,\n",
       " 0.1519891577192241,\n",
       " 0.05308094689938669,\n",
       " 0.0664537028724481,\n",
       " 0.16237391207016408,\n",
       " 0.22750770753133998,\n",
       " 0.14985490402118912,\n",
       " 0.03897116329563202,\n",
       " 0.3531798294837313,\n",
       " 0.014475376785318354,\n",
       " 0.06357813120540941,\n",
       " 0.24079441421757278,\n",
       " 0.1028145858223004,\n",
       " 0.02086087815867663,\n",
       " 0.1277372688130695,\n",
       " 0.028880946056286546,\n",
       " 0.11890765583839714,\n",
       " 0.05842520472737582,\n",
       " 0.02291585503143372,\n",
       " 0.013878193712928925,\n",
       " 0.004348371215900288,\n",
       " 0.08472816576717487,\n",
       " 0.48979258827325173,\n",
       " 0.021568914051662457,\n",
       " 0.002589690193126215,\n",
       " 0.15976735739478456,\n",
       " 0.8163874898632509,\n",
       " 0.02111281271908203,\n",
       " 0.05396346380290911,\n",
       " 0.07864414455342045,\n",
       " 0.06862760946651333,\n",
       " 0.09799863288802219,\n",
       " 0.7418248076691358,\n",
       " 0.018997726473689098,\n",
       " 0.6979266276296268,\n",
       " 0.4665038074436764,\n",
       " 0.3654961658695184,\n",
       " 0.3804028449377515,\n",
       " 0.02780081773349717,\n",
       " 0.17239635115413307,\n",
       " 0.04123158537740013,\n",
       " 0.08933693836464583,\n",
       " 0.2244889941336976,\n",
       " 0.1331973564595633,\n",
       " 0.5490896943976522,\n",
       " 0.0030747133005152535,\n",
       " 0.048236193383766925,\n",
       " 0.0768321660761785,\n",
       " 0.06462201013823873,\n",
       " 0.5708672106484263,\n",
       " 0.04797075142011175,\n",
       " 0.006808565645968687,\n",
       " 0.1367644995116449,\n",
       " 0.4900988980427465,\n",
       " 0.06259587659669277,\n",
       " 0.16902345367346958,\n",
       " 0.016821357116534895,\n",
       " 0.25950816457056525,\n",
       " 0.20423976604138389,\n",
       " 0.17491982348796825,\n",
       " 0.24645581826301238,\n",
       " 0.1330373219728683,\n",
       " 0.06103741232144316,\n",
       " 0.041153720130739764,\n",
       " 0.03488398532911917,\n",
       " 0.0996672971704401,\n",
       " 0.15013625194652888,\n",
       " 0.12701887071706824,\n",
       " 0.005332446078926839,\n",
       " 0.333061669888365,\n",
       " 0.09632511867822391,\n",
       " 0.1399777433084613,\n",
       " 0.08140854146603835,\n",
       " 0.06802731529036864,\n",
       " 0.3667702694425605,\n",
       " 0.34077952272579287,\n",
       " 0.03559423694199208,\n",
       " 0.048571762355783046,\n",
       " 0.01773110103422266,\n",
       " 0.13066463020764787,\n",
       " 0.3382667201252824,\n",
       " 0.3555771531835113,\n",
       " 0.11371218638908817,\n",
       " 0.21579748056096082,\n",
       " 0.023991584955913834,\n",
       " 0.16640667274640256,\n",
       " 0.18811157503256853,\n",
       " 0.1430377588077939,\n",
       " 0.08592933974804026,\n",
       " 0.007922041548772579,\n",
       " 0.03175760031288134,\n",
       " 0.18418988666238378,\n",
       " 0.029540803643159624,\n",
       " 0.16245545456288482,\n",
       " 0.011832455461543892,\n",
       " 0.383877692807,\n",
       " 0.1053982302779399,\n",
       " 0.011832929019913913,\n",
       " 0.5144866506823381,\n",
       " 0.642610725784069,\n",
       " 0.015441061658369688,\n",
       " 0.0640512022639734,\n",
       " 0.2164322051051364,\n",
       " 0.18452718848202632,\n",
       " 0.11359774939568305,\n",
       " 0.03199382060001075,\n",
       " 0.06579696131965253,\n",
       " 0.16414813905718548,\n",
       " 0.015619587938392692,\n",
       " 0.003884513989288351,\n",
       " 0.23676840733287186,\n",
       " 0.02404807296267345,\n",
       " 0.33460442070484975,\n",
       " 0.6756444154224157,\n",
       " 0.10449131400332258,\n",
       " 0.01663107389855763,\n",
       " 0.08048508632139502,\n",
       " 0.14369167245990727,\n",
       " 0.048435205492380506,\n",
       " 0.15450768420393846,\n",
       " 0.04392592307918668,\n",
       " 0.10011716601771913,\n",
       " 0.03406240110678352,\n",
       " 0.31615986682549296,\n",
       " 0.14963876111551339,\n",
       " 0.07121592820156976,\n",
       " 0.4351537085936448,\n",
       " 0.03759483424346794,\n",
       " 0.5702997951189358,\n",
       " 0.09483453560104467,\n",
       " 0.007900417091395398,\n",
       " 0.06494023651670626,\n",
       " 0.011501815650768842,\n",
       " 0.10350976443654013,\n",
       " 0.03497421935611992,\n",
       " 0.425146671151365,\n",
       " 0.10275076107584813,\n",
       " 0.5512275889634035,\n",
       " 0.031293295942469025,\n",
       " 0.053810868118450796,\n",
       " 0.0843362893278742,\n",
       " 0.5670657913612384,\n",
       " 0.2355544815083298,\n",
       " 0.18931756817566017,\n",
       " 0.14231843817427445,\n",
       " 0.1790000568997917,\n",
       " 0.01777933828974816,\n",
       " 0.056107283693013744,\n",
       " 0.06568234017154195,\n",
       " 0.0693493600665543,\n",
       " 0.007455891022953771,\n",
       " 0.42472706863019016,\n",
       " 0.038185652970127854,\n",
       " 0.3606924198084332,\n",
       " 0.2874418007362869,\n",
       " 0.09489588402240316,\n",
       " 0.06368122636148033,\n",
       " 0.047913088063771585,\n",
       " 0.21085588039172923,\n",
       " 0.04197915114710113,\n",
       " 0.5999480304865951,\n",
       " 0.4972419760288224,\n",
       " 0.11904169397283268,\n",
       " 0.34933876951153303,\n",
       " 0.13978868077208587,\n",
       " 0.0641916020871864,\n",
       " 0.05089824172575911,\n",
       " 0.5183081955987514,\n",
       " 0.1681589417510232,\n",
       " 0.07901236615680073,\n",
       " 0.013520346464903342,\n",
       " 0.11377188623429817,\n",
       " 0.04783687679915383,\n",
       " 0.018054844404113292,\n",
       " 0.36436375424796175,\n",
       " 0.05115883328003549,\n",
       " 0.004766855052636883,\n",
       " 0.03491376201960742,\n",
       " 0.003968912906179699,\n",
       " 0.0918050806151774,\n",
       " 0.4970534731633753,\n",
       " 0.31991076944787517,\n",
       " 0.05073480188136541,\n",
       " 0.05870554642925543,\n",
       " 0.40547158432909286,\n",
       " 0.03638894333318725,\n",
       " 0.03139702890767276,\n",
       " 0.06784326099512258,\n",
       " 0.2067245025144372,\n",
       " 0.028760538792895925,\n",
       " 0.4050939691742991,\n",
       " 0.029179312701032255,\n",
       " 0.006594225657678175,\n",
       " 0.21393668310827596,\n",
       " 0.031654122281272457,\n",
       " 0.031838885906745044,\n",
       " 0.0974427799433389,\n",
       " 0.03962333255390322,\n",
       " 0.06827683093402234,\n",
       " 0.10244541082753347,\n",
       " 0.056495102865119134,\n",
       " 0.38541703150580825,\n",
       " 0.04930778368054586,\n",
       " 0.05990547985742453,\n",
       " 0.040840154963334034,\n",
       " 0.006997460737170657,\n",
       " 0.3679833158895915,\n",
       " 0.0038222176653415524,\n",
       " 0.09742898449227183,\n",
       " 0.29525645417766055,\n",
       " 0.021702060199624337,\n",
       " 0.6590333302884159,\n",
       " 0.07178101871320054,\n",
       " 0.3429370677640801,\n",
       " 0.11994558115940238,\n",
       " 0.05045794032086782,\n",
       " 0.09048366796867242,\n",
       " 0.12080965416076261,\n",
       " 0.44381035129062985,\n",
       " 0.2026740736108865,\n",
       " 0.07425041548544466,\n",
       " 0.14048451956796115,\n",
       " 0.5989004261378755,\n",
       " 0.027135275865171945,\n",
       " 0.0011155876366625538,\n",
       " 0.3001473932313174,\n",
       " 0.1312875010897924,\n",
       " 0.12382132176252189,\n",
       " 0.1344606888005645,\n",
       " 0.06462817939651168,\n",
       " 0.5767144676888848,\n",
       " 0.013120657619034854,\n",
       " 0.036141184692778605,\n",
       " 0.4370056701165464,\n",
       " 0.02805035965750649,\n",
       " 0.3900124183201521,\n",
       " 0.01827851862215478,\n",
       " 0.021097582416313584,\n",
       " 0.24266025345060666,\n",
       " 0.14006994055346292,\n",
       " 0.23546928169458337,\n",
       " 0.019713405546439692,\n",
       " 0.13683153793252617,\n",
       " 0.009120822156391694,\n",
       " 0.276460281324643,\n",
       " 0.18058870330990007,\n",
       " 0.3409871245788078,\n",
       " 0.008054595923137444,\n",
       " 0.096696114024703,\n",
       " 0.0903430360373682,\n",
       " 0.07100527167591285,\n",
       " 0.07986162867588222,\n",
       " 0.08712801706305774,\n",
       " 0.050503932955875866,\n",
       " 0.008916952241065557,\n",
       " 0.02499458351533487,\n",
       " 0.23142878782227227,\n",
       " 0.08408939918901284,\n",
       " 0.1624254658720421,\n",
       " 0.006695239060716227,\n",
       " 0.18786070245617623,\n",
       " 0.42758997702096047,\n",
       " 0.09001226180111677,\n",
       " 0.06610055901398926,\n",
       " 0.23937853365764522,\n",
       " 0.033588114126247785,\n",
       " 0.043092121334347595,\n",
       " 0.14486375275305446,\n",
       " 0.014005977893524061,\n",
       " 0.41366075554884785,\n",
       " 0.16967136382156708,\n",
       " 0.015161851160723163,\n",
       " 0.18723789001537455,\n",
       " 0.015799512171564903,\n",
       " 0.10383434642767986,\n",
       " 0.05644298693801437,\n",
       " 0.0289871130642255,\n",
       " 0.039632903242274115,\n",
       " 0.05264376531434859,\n",
       " 0.1010623108441407,\n",
       " 0.1018507639186005,\n",
       " 0.15050562161569628,\n",
       " 0.35637227429109264,\n",
       " 0.11013446745809562,\n",
       " 0.04198168607532254,\n",
       " 0.03861913121761838,\n",
       " 0.0892238048848281,\n",
       " 0.17915036728816522,\n",
       " 0.011973193248116855,\n",
       " 0.5906356002036922,\n",
       " 0.31812874003487596,\n",
       " 0.17976787542500616,\n",
       " 0.12361212428791593,\n",
       " 0.056663299119399886,\n",
       " 0.21274510678689562,\n",
       " 0.031376570766185996,\n",
       " 0.17090789425457287,\n",
       " 0.6237908343396428,\n",
       " 0.2444899125102219,\n",
       " 0.0640413689343579,\n",
       " 0.12608947562432513,\n",
       " 0.119603151676546,\n",
       " 0.03834307631466706,\n",
       " 0.15235885583677225,\n",
       " 0.060040057930511315,\n",
       " 0.11467310133731116,\n",
       " 0.07706949735111947,\n",
       " 0.01222914085260144,\n",
       " 0.03355839004504232,\n",
       " 0.02457410204656445,\n",
       " 0.05702893866462325,\n",
       " 0.027946959763721448,\n",
       " 0.0188593470632161,\n",
       " 0.03606251829118252,\n",
       " 0.10189373312258772,\n",
       " 0.0711257421341667,\n",
       " 0.014715939565968481,\n",
       " 0.05879124612319908,\n",
       " 0.13893419239491783,\n",
       " 0.25680590984351437,\n",
       " 0.0027416860432199147,\n",
       " 0.00819744819721489,\n",
       " 0.01211614980183063,\n",
       " 0.11834140524100006,\n",
       " 0.018226864761987753,\n",
       " 0.0893758972063785,\n",
       " 0.28351624833968464,\n",
       " 0.02408515374705604,\n",
       " 0.15864166627217746,\n",
       " 0.3141695054404193,\n",
       " 0.020099288204011856,\n",
       " 0.01530759686810072,\n",
       " 0.035922423878505416,\n",
       " 0.11035720302154087,\n",
       " 0.5892383430342305,\n",
       " 0.0462422271796849,\n",
       " 0.1278525802470323,\n",
       " 0.0178737032518304,\n",
       " 0.028786965472078593,\n",
       " 0.13533496271862644,\n",
       " 0.08397997172482818,\n",
       " 0.002493267017753154,\n",
       " 0.13301302577418925,\n",
       " 0.09590262527090296,\n",
       " 0.19769369673420634,\n",
       " 0.22810638410953857,\n",
       " 0.0033382374802764683,\n",
       " 0.4183230384462446,\n",
       " 0.36289744643681743,\n",
       " 0.39080412060694136,\n",
       " 0.3653705561556253,\n",
       " 0.11372619115076676,\n",
       " 0.0893595132789696,\n",
       " 0.0922184251416563,\n",
       " 0.22408660082617687,\n",
       " 0.03112613674947359,\n",
       " 0.41713788905680027,\n",
       " 0.1690080892333338,\n",
       " 0.14409599925300282,\n",
       " 0.11256947630553245,\n",
       " 0.08215291062254287,\n",
       " 0.10369268051318817,\n",
       " 0.10574730909900068,\n",
       " 0.31444188107600535,\n",
       " 0.6496613217456305,\n",
       " 0.07932086374288212,\n",
       " 0.04674436454870684,\n",
       " 0.2141171471262407,\n",
       " 0.11510759399222406,\n",
       " 0.2791212938404872,\n",
       " 0.026143748528654514,\n",
       " 0.5287647177635425,\n",
       " 0.007182408627105454,\n",
       " 0.17201321654750457,\n",
       " 0.04012038300208629,\n",
       " 0.04518854559262604,\n",
       " 0.48553527662819235,\n",
       " 0.25848959834613994,\n",
       " 0.0614875294756063,\n",
       " 0.04244091785201072,\n",
       " 0.03282176751448136,\n",
       " 0.3151051878366076,\n",
       " 0.11763269019694475,\n",
       " 0.026834220729269772,\n",
       " 0.005500616472980543,\n",
       " 0.279523528203091,\n",
       " 0.08695722436360279,\n",
       " 0.00902252262192441,\n",
       " 0.04733340971475479,\n",
       " 0.05681633542994171,\n",
       " 0.04559811344188384,\n",
       " 0.4326589742720047,\n",
       " 0.18383497978773813,\n",
       " 0.009223545731081865,\n",
       " 0.48407006072489317,\n",
       " 0.01484530051483952,\n",
       " 0.36328062403707573,\n",
       " 0.4079619577129107,\n",
       " 0.11800168212385807,\n",
       " 0.05846026976316969,\n",
       " 0.0267939724368965,\n",
       " 0.4169287759950995,\n",
       " 0.3962837444707138,\n",
       " 0.163304595089492,\n",
       " 0.09190918221917463,\n",
       " 0.1077537246415782,\n",
       " 0.30923557375495153,\n",
       " 0.07861467026030805,\n",
       " 0.08736537950282766,\n",
       " 0.03091801598985166,\n",
       " 0.03260833820026539,\n",
       " 0.08640275952953995,\n",
       " 0.04790621770362817,\n",
       " 0.10351083633340391,\n",
       " 0.11778558947162027,\n",
       " 0.09904723092992329,\n",
       " 0.0063405755258471135,\n",
       " 0.46017075167794164,\n",
       " 0.008852901469099178,\n",
       " 0.22449705275777476,\n",
       " 0.21191059933044604,\n",
       " 0.1018862308750454,\n",
       " 0.44550288894493645,\n",
       " 0.019236105238537075,\n",
       " 0.08052118367367676,\n",
       " 0.11828575777683344,\n",
       " 0.39234650197401444,\n",
       " 0.08522396322261314,\n",
       " 0.39136389416683526]"
      ]
     },
     "execution_count": 116,
     "metadata": {},
     "output_type": "execute_result"
    }
   ],
   "source": [
    "y_pred_prob = classifier1.predict_proba(df_2)[:,1]\n",
    "y_pred_prob.tolist()"
   ]
  },
  {
   "cell_type": "markdown",
   "id": "11f61b21",
   "metadata": {},
   "source": [
    "**Step 7: Identifying Important Features**\n",
    "\n",
    "* Overtime, Number of Companies Worked and Years Since Promotion are the top three factors in determining whether an employee will accept an RCC"
   ]
  },
  {
   "cell_type": "code",
   "execution_count": 117,
   "id": "cb9eef9e",
   "metadata": {
    "ExecuteTime": {
     "end_time": "2022-12-16T11:30:13.673648Z",
     "start_time": "2022-12-16T11:30:13.658935Z"
    },
    "code_folding": [
     0
    ]
   },
   "outputs": [],
   "source": [
    "#Creating Feature Importance DataFrame using Coeffecients:\n",
    "Feature_Importance = pd.DataFrame(data={\n",
    "    'Attribute': trainX_final.columns,\n",
    "    'Importance': classifier1.coef_[0]\n",
    "})\n",
    "Feature_Importance = Feature_Importance.sort_values(by='Importance', ascending=False)"
   ]
  },
  {
   "cell_type": "code",
   "execution_count": 119,
   "id": "60d3dc57",
   "metadata": {
    "ExecuteTime": {
     "end_time": "2022-12-16T11:30:36.697846Z",
     "start_time": "2022-12-16T11:30:35.194385Z"
    },
    "code_folding": [
     0
    ],
    "scrolled": true
   },
   "outputs": [
    {
     "data": {
      "image/png": "[encoded data removed]",
      "text/plain": [
       "<Figure size 1296x432 with 1 Axes>"
      ]
     },
     "metadata": {
      "needs_background": "light"
     },
     "output_type": "display_data"
    }
   ],
   "source": [
    "#Plotting:\n",
    "plt.rcParams[\"figure.figsize\"] = (18,6)\n",
    "plt.rcParams.update({'axes.facecolor':'white'})\n",
    "plt.gca().spines[['top','bottom','right','left']].set_color('black')\n",
    "plt.bar(x=Feature_Importance['Attribute'], height=Feature_Importance['Importance'], color='skyblue',edgecolor='black',linewidth=0.7)\n",
    "plt.title('Feature Importance\\n', size=14)\n",
    "plt.xticks(rotation='vertical')\n",
    "plt.show()"
   ]
  },
  {
   "cell_type": "code",
   "execution_count": null,
   "id": "de23e2e9",
   "metadata": {},
   "outputs": [],
   "source": []
  }
 ],
 "metadata": {
  "kernelspec": {
   "display_name": "Python 3 (ipykernel)",
   "language": "python",
   "name": "python3"
  },
  "language_info": {
   "codemirror_mode": {
    "name": "ipython",
    "version": 3
   },
   "file_extension": ".py",
   "mimetype": "text/x-python",
   "name": "python",
   "nbconvert_exporter": "python",
   "pygments_lexer": "ipython3",
   "version": "3.9.12"
  },
  "toc": {
   "base_numbering": 1,
   "nav_menu": {},
   "number_sections": true,
   "sideBar": true,
   "skip_h1_title": false,
   "title_cell": "Table of Contents",
   "title_sidebar": "Contents",
   "toc_cell": false,
   "toc_position": {},
   "toc_section_display": true,
   "toc_window_display": false
  },
  "varInspector": {
   "cols": {
    "lenName": 16,
    "lenType": 16,
    "lenVar": 40
   },
   "kernels_config": {
    "python": {
     "delete_cmd_postfix": "",
     "delete_cmd_prefix": "del ",
     "library": "var_list.py",
     "varRefreshCmd": "print(var_dic_list())"
    },
    "r": {
     "delete_cmd_postfix": ") ",
     "delete_cmd_prefix": "rm(",
     "library": "var_list.r",
     "varRefreshCmd": "cat(var_dic_list()) "
    }
   },
   "types_to_exclude": [
    "module",
    "function",
    "builtin_function_or_method",
    "instance",
    "_Feature"
   ],
   "window_display": false
  }
 },
 "nbformat": 4,
 "nbformat_minor": 5
}
